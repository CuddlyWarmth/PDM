{
 "cells": [
  {
   "cell_type": "markdown",
   "metadata": {},
   "source": [
    "In this exercise we step-wise solve a vehicle routing problem (VRP) by separating it in multiple traveling salesman problems (TSP). To do so, we first cluster all locations. Second, we model the TSPs as an integer-linear program (ILP) and solve it using a freely available solver. We operate in the euclidean plane.\n",
    "\n",
    "Let's start by importing a couple of useful libraries, needed in this exercise. Probably, those imports lead to a couple of problems, as pyomo has not been installed, yet. Pyomo is a modelling language Pyomo we will use to modle the TSP. Together with pyomo, we will use the freely available solver glpk. To use the solver glpk with Pyomo, it must be installed so the command \"glpsol --help\" can be given on the command line from any directory. \n",
    "- pip install pyomo \n",
    "- sudo apt install libglpk-dev python3.8-dev libgmp3-dev\n",
    "- pip install glpk\n",
    "- sudo apt install glpk-utils\n",
    "- pip install -U scikit-learn"
   ]
  },
  {
   "cell_type": "code",
   "execution_count": null,
   "metadata": {},
   "outputs": [],
   "source": [
    "import matplotlib.pyplot as plt\n",
    "import numpy as np\n",
    "from sklearn.cluster import KMeans\n",
    "import pyomo.environ as pyEnv"
   ]
  },
  {
   "cell_type": "markdown",
   "metadata": {},
   "source": [
    "Further we need to define the input to our problem. First, we set the locations to visit, note that location 0 is the depot. Second, we define the number of clusters we want to divide them into, setting the number of TSPs. Further we define a set of colours to use for our plotting. Feel free to play with these parameters, once you solved the original assignment."
   ]
  },
  {
   "cell_type": "code",
   "execution_count": null,
   "metadata": {},
   "outputs": [],
   "source": [
    "locations= np.array([\n",
    "(250, 250), # location 0 - the depot\n",
    "(230, 0), # location 1\n",
    "(449, 120), # location 2\n",
    "(-1, 200), # location 3\n",
    "(119, 105), # location 4\n",
    "(372, 156), # location 5\n",
    "(29, 355), # location 6\n",
    "(338, 141), # location 7\n",
    "(381, 444), # location 8\n",
    "(172, 398), # location 9\n",
    "(8, 401), # location 10\n",
    "(111, 477), # location 11\n",
    "(325, 484), # location 12\n",
    "(332, 397), # location 13\n",
    "(461, 483), # location 14\n",
    "(-4, 36), # location 15\n",
    "(299, 100), # location 16\n",
    "(44, 40), # location 17\n",
    "(122, 344), # location 18\n",
    "(1, 8), # location 19\n",
    "(225, 39)]) # location 20\n",
    "\n",
    "n_clusters = 4\n",
    "own_colors = [\"purple\", \"green\", \"blue\", \"yellow\", \"black\"]"
   ]
  },
  {
   "cell_type": "markdown",
   "metadata": {},
   "source": [
    "#### Plot the starting situation\n",
    "\n",
    "Start by plotting the depot location and the locations to visit. Tip: Use a scatter plot of matplotlib."
   ]
  },
  {
   "cell_type": "code",
   "execution_count": null,
   "metadata": {},
   "outputs": [],
   "source": [
    "plt.figure(figsize=(8,5))\n",
    "# First, plot the depot only\n",
    "plt.scatter(............, color=\"red\")\n",
    "# plot the customers locations\n",
    "for..............: \n",
    "    plt.scatter(............, color=\"blue\")"
   ]
  },
  {
   "cell_type": "markdown",
   "metadata": {},
   "source": [
    "# Clustering\n",
    "\n",
    "Here we divide all customer locations into groups (clusters). We do so based on their spatial relationships.<br>\n",
    "\n",
    "#### Cluster all customer locations using K means of sklearn\n",
    "\n",
    "K means clustering algorithm steps:\n",
    "   - Choose a number of centroids (number of clusters).\n",
    "   - Choose the same number of random points on the 2D canvas as centroids.\n",
    "   - Calculate the distance of each data point from the centroids.\n",
    "   - Allocate the data point to a cluster where its distance from the centroid is minimum.\n",
    "   - Recalculate the new centroids.\n",
    "   - Recalculate the distance from each data point to new centroids.\n",
    "   - Repeat the steps from point 3, till no data point change its cluster.\n",
    "\n",
    "To do so we leverage KMeans of sklearn.cluster, imported earlier. Note, there is no need to implement k means from scratch, only parameters are missing."
   ]
  },
  {
   "cell_type": "code",
   "execution_count": null,
   "metadata": {},
   "outputs": [],
   "source": [
    "kmean=KMeans(............)\n",
    "kmean.fit(............) # pay attention to exclude the depot"
   ]
  },
  {
   "cell_type": "markdown",
   "metadata": {},
   "source": [
    "The solution of the clustering can be accesed as follows:"
   ]
  },
  {
   "cell_type": "code",
   "execution_count": null,
   "metadata": {},
   "outputs": [],
   "source": [
    "kmean.labels_"
   ]
  },
  {
   "cell_type": "markdown",
   "metadata": {},
   "source": [
    "#### Plot the clusters\n",
    "\n",
    "Repeat the previous plot and color each location the according to their cluster. Be aware that the clustering does not contain the depot."
   ]
  },
  {
   "cell_type": "code",
   "execution_count": null,
   "metadata": {},
   "outputs": [],
   "source": [
    "plt.figure(figsize=(8,5))\n",
    "............  # Here multiple lines of code need to be filled"
   ]
  },
  {
   "cell_type": "markdown",
   "metadata": {},
   "source": [
    "# Solving the TSP"
   ]
  },
  {
   "cell_type": "markdown",
   "metadata": {},
   "source": [
    "#### Develop a function generating a cost matrix for a cluster\n",
    "\n",
    "We define the cost of two locations as the distance between them. As we operate in the euclidian plane, the bee line can be used. For one cluster (TSP), including the depot, we store all costs in a so called cost matrix. "
   ]
  },
  {
   "cell_type": "code",
   "execution_count": null,
   "metadata": {},
   "outputs": [],
   "source": [
    "def distance(loc1, loc2):\n",
    "    return ............\n",
    "\n",
    "def def_cost_matrix(locations):\n",
    "    cost_matrix = np.zeros((len(locations), len(locations))) # creates matrix with all values zero\n",
    "    ............  # Here multiple lines of code need to be filled\n",
    "    return cost_matrix"
   ]
  },
  {
   "cell_type": "markdown",
   "metadata": {},
   "source": [
    "### Model the TSP\n",
    "\n",
    "To model the TSP we use pyomo. A great source of information is http://www.opl.ufc.br/post/tsp/. We will define functions for the objective function and each constraint. Those will be utilised within the creation of the model, which we wrap into one function. We do so, such that we get a function \"solve_tsp(locations_tsp, cost_matrix)\", taking the locations and an associated cost matrix and returns the solution.\n",
    "\n",
    "#### Define functions to model the objective function and the needed constraints"
   ]
  },
  {
   "cell_type": "code",
   "execution_count": null,
   "metadata": {},
   "outputs": [],
   "source": [
    "def obj_func(model):\n",
    "    return sum(model.x[i,j] * model.c[i,j] for ............)\n",
    "\n",
    "def rule_const1(model,M):\n",
    "    return sum(model.x[i,M] for i in model.N if i!=M ) == ............\n",
    "\n",
    "def rule_const2(model,N):\n",
    "    return sum(model.x[N,j] for j in model.M if j!=N) == ............\n",
    "\n",
    "def rule_const3(model,i,j):\n",
    "    if i!=j: \n",
    "        return ............\n",
    "    else:\n",
    "        #Please note that this else doesn't really say anything\n",
    "        return model.u[i] - model.u[i] == 0 "
   ]
  },
  {
   "cell_type": "markdown",
   "metadata": {},
   "source": [
    "#### Put everything together into one function creating a specific TSP and solving it\n",
    "\n",
    "The model needs to be created first. To solve it we will call a solver (glpk). Last, the output of the solver needs to be shaped (to further work with it) and returned."
   ]
  },
  {
   "cell_type": "code",
   "execution_count": null,
   "metadata": {},
   "outputs": [],
   "source": [
    "def solve_tsp(locations_tsp, cost_matrix): # based on \"http://www.opl.ufc.br/post/tsp/\"\n",
    "    #Model\n",
    "    model = pyEnv.ConcreteModel()\n",
    "\n",
    "    #Indexes for the cities\n",
    "    model.M = pyEnv.RangeSet(len(locations_tsp))                \n",
    "    model.N = pyEnv.RangeSet(len(locations_tsp))\n",
    "\n",
    "    #Index for the dummy variable u\n",
    "    model.U = pyEnv.RangeSet(2,len(locations_tsp))\n",
    "    \n",
    "    #Decision variables xij\n",
    "    model.x = pyEnv.Var(............, within=pyEnv.Binary)\n",
    "\n",
    "    #Dummy variable ui\n",
    "    model.u = pyEnv.Var(model.N, within=pyEnv.NonNegativeIntegers,bounds=(0,len(locations_tsp)-1))\n",
    "    \n",
    "    #Cost Matrix cij\n",
    "    model.c = pyEnv.Param(model.N, model.M,initialize=lambda model, i, j: ............)\n",
    "\n",
    "    model.objective = pyEnv.Objective(rule=obj_func,sense=pyEnv.minimize)\n",
    "\n",
    "    model.const1 = pyEnv.Constraint(model.M,rule=rule_const1)\n",
    "\n",
    "    model.rest2 = pyEnv.Constraint(model.N,rule=rule_const2)\n",
    "\n",
    "    model.rest3 = pyEnv.Constraint(model.U,model.N,rule=rule_const3)\n",
    "\n",
    "    #model.print()\n",
    "\n",
    "    #Solves\n",
    "    solver = pyEnv.SolverFactory('glpk')\n",
    "    result = solver.solve(model,tee = False)\n",
    "\n",
    "    #Prints the results\n",
    "    #print(result)\n",
    "\n",
    "    l = list(model.x.keys())\n",
    "    sol=[]\n",
    "    for i in ............:\n",
    "        if model.x[i]() != ............:\n",
    "            if model.x[i]() != None:\n",
    "                sol.append(i)\n",
    "    #print(sol)\n",
    "    \n",
    "    #sort the solution\n",
    "    sorted_sol = ............ #Initalize a list of visited location ids, always starting at the depot\n",
    "    for i in sol:\n",
    "        for ii in sol:\n",
    "            last_loc = ............\n",
    "            if ii[0] == ............:\n",
    "                if ii[1] == 1: # stop if we are back at the depot\n",
    "                    break\n",
    "                else:\n",
    "                    sorted_sol.append(ii[1])\n",
    "    sorted_sol.append(............) # we go back to the depot\n",
    "            \n",
    "    return sorted_sol"
   ]
  },
  {
   "cell_type": "markdown",
   "metadata": {},
   "source": [
    "#### Use the created functions to create and solve a TSP for each cluster\n",
    "\n",
    "Here we apply the created function to each cluster of customer locations."
   ]
  },
  {
   "cell_type": "code",
   "execution_count": null,
   "metadata": {},
   "outputs": [],
   "source": [
    "#Solve TSP for each cluster\n",
    "results = []\n",
    "cities_cluster_save = [] \n",
    "for cluster_id in range(0, ............): # Solve each cluster separately\n",
    "    print(\"Cluster no: {}\".format(cluster_id))\n",
    "\n",
    "    cities_cluster = [] # saved such that the used indices can be used later on\n",
    "    cities_cluster.append(locations[0]) # depot is part of all clusters\n",
    "    for loc in locations[1:][............ == ............]:\n",
    "        cities_cluster.append(loc)\n",
    "\n",
    "    cost_matrix = ............\n",
    "    sol= ............\n",
    "    print(\"Vehicle follows the route: {}\".format(sol))\n",
    "    \n",
    "    #save solution\n",
    "    results.append(sol)\n",
    "    cities_cluster_save.append(cities_cluster)\n",
    "    \n",
    "print(results)"
   ]
  },
  {
   "cell_type": "markdown",
   "metadata": {},
   "source": [
    "#### Visualise your results\n",
    "\n",
    "Reuse the previous plot and add the tour given by solving the TSP for each cluster. Therefore connect to consecutively visited locations by a line using \"plt.plot\". Please, add your name and student number to the plot."
   ]
  },
  {
   "cell_type": "code",
   "execution_count": null,
   "metadata": {},
   "outputs": [],
   "source": [
    "plt.figure(figsize=(8,5))\n",
    "............ # Here multiple lines of code need to be filled\n",
    "\n",
    "\n",
    "plt.text(335,300, \"Name\")\n",
    "plt.text(335,250, \"000001\")"
   ]
  },
  {
   "cell_type": "code",
   "execution_count": null,
   "metadata": {},
   "outputs": [],
   "source": []
  }
 ],
 "metadata": {
  "kernelspec": {
   "display_name": "Python 3 (ipykernel)",
   "language": "python",
   "name": "python3"
  },
  "language_info": {
   "codemirror_mode": {
    "name": "ipython",
    "version": 3
   },
   "file_extension": ".py",
   "mimetype": "text/x-python",
   "name": "python",
   "nbconvert_exporter": "python",
   "pygments_lexer": "ipython3",
   "version": "3.11.6"
  }
 },
 "nbformat": 4,
 "nbformat_minor": 4
}
